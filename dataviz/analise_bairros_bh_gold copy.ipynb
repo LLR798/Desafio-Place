{
 "cells": [
  {
   "cell_type": "code",
   "execution_count": null,
   "id": "30b6405a",
   "metadata": {},
   "outputs": [
    {
     "data": {
      "text/html": [
       "<div>\n",
       "<style scoped>\n",
       "    .dataframe tbody tr th:only-of-type {\n",
       "        vertical-align: middle;\n",
       "    }\n",
       "\n",
       "    .dataframe tbody tr th {\n",
       "        vertical-align: top;\n",
       "    }\n",
       "\n",
       "    .dataframe thead th {\n",
       "        text-align: right;\n",
       "    }\n",
       "</style>\n",
       "<table border=\"1\" class=\"dataframe\">\n",
       "  <thead>\n",
       "    <tr style=\"text-align: right;\">\n",
       "      <th></th>\n",
       "      <th>nome_do_bairro</th>\n",
       "      <th>tipo</th>\n",
       "      <th>area_km2</th>\n",
       "      <th>qtd_empresas</th>\n",
       "      <th>qtd_pontos_onibus</th>\n",
       "      <th>empresas_por_km2</th>\n",
       "      <th>pontos_onibus_por_km2</th>\n",
       "      <th>potencial_score</th>\n",
       "      <th>categoria_score</th>\n",
       "      <th>latitude</th>\n",
       "      <th>longitude</th>\n",
       "    </tr>\n",
       "  </thead>\n",
       "  <tbody>\n",
       "    <tr>\n",
       "      <th>0</th>\n",
       "      <td>CRISTO REDENTOR</td>\n",
       "      <td>Conjunto Habitacional</td>\n",
       "      <td>0.005</td>\n",
       "      <td>0</td>\n",
       "      <td>305</td>\n",
       "      <td>0.000000</td>\n",
       "      <td>61000.000000</td>\n",
       "      <td>10.00</td>\n",
       "      <td>Ótimo</td>\n",
       "      <td>-19.983318</td>\n",
       "      <td>-44.006399</td>\n",
       "    </tr>\n",
       "    <tr>\n",
       "      <th>1</th>\n",
       "      <td>OURO PRETO</td>\n",
       "      <td>Conjunto Habitacional</td>\n",
       "      <td>0.031</td>\n",
       "      <td>5010</td>\n",
       "      <td>91</td>\n",
       "      <td>161612.903226</td>\n",
       "      <td>2935.483871</td>\n",
       "      <td>8.62</td>\n",
       "      <td>Ótimo</td>\n",
       "      <td>-19.934739</td>\n",
       "      <td>-44.003353</td>\n",
       "    </tr>\n",
       "    <tr>\n",
       "      <th>2</th>\n",
       "      <td>PUC</td>\n",
       "      <td>Vila</td>\n",
       "      <td>0.004</td>\n",
       "      <td>0</td>\n",
       "      <td>155</td>\n",
       "      <td>0.000000</td>\n",
       "      <td>38750.000000</td>\n",
       "      <td>6.35</td>\n",
       "      <td>Ótimo</td>\n",
       "      <td>-19.920251</td>\n",
       "      <td>-43.994589</td>\n",
       "    </tr>\n",
       "    <tr>\n",
       "      <th>3</th>\n",
       "      <td>COPASA</td>\n",
       "      <td>Vila</td>\n",
       "      <td>0.009</td>\n",
       "      <td>0</td>\n",
       "      <td>311</td>\n",
       "      <td>0.000000</td>\n",
       "      <td>34555.555556</td>\n",
       "      <td>5.66</td>\n",
       "      <td>Ótimo</td>\n",
       "      <td>-19.981341</td>\n",
       "      <td>-44.006274</td>\n",
       "    </tr>\n",
       "    <tr>\n",
       "      <th>4</th>\n",
       "      <td>TIROL</td>\n",
       "      <td>Conjunto Habitacional</td>\n",
       "      <td>0.030</td>\n",
       "      <td>2526</td>\n",
       "      <td>179</td>\n",
       "      <td>84200.000000</td>\n",
       "      <td>5966.666667</td>\n",
       "      <td>5.22</td>\n",
       "      <td>Ótimo</td>\n",
       "      <td>-19.986141</td>\n",
       "      <td>-44.036326</td>\n",
       "    </tr>\n",
       "  </tbody>\n",
       "</table>\n",
       "</div>"
      ],
      "text/plain": [
       "    nome_do_bairro                   tipo  area_km2  qtd_empresas  \\\n",
       "0  CRISTO REDENTOR  Conjunto Habitacional     0.005             0   \n",
       "1       OURO PRETO  Conjunto Habitacional     0.031          5010   \n",
       "2              PUC                   Vila     0.004             0   \n",
       "3           COPASA                   Vila     0.009             0   \n",
       "4            TIROL  Conjunto Habitacional     0.030          2526   \n",
       "\n",
       "   qtd_pontos_onibus  empresas_por_km2  pontos_onibus_por_km2  \\\n",
       "0                305          0.000000           61000.000000   \n",
       "1                 91     161612.903226            2935.483871   \n",
       "2                155          0.000000           38750.000000   \n",
       "3                311          0.000000           34555.555556   \n",
       "4                179      84200.000000            5966.666667   \n",
       "\n",
       "   potencial_score categoria_score   latitude  longitude  \n",
       "0            10.00           Ótimo -19.983318 -44.006399  \n",
       "1             8.62           Ótimo -19.934739 -44.003353  \n",
       "2             6.35           Ótimo -19.920251 -43.994589  \n",
       "3             5.66           Ótimo -19.981341 -44.006274  \n",
       "4             5.22           Ótimo -19.986141 -44.036326  "
      ]
     },
     "execution_count": 1,
     "metadata": {},
     "output_type": "execute_result"
    }
   ],
   "source": [
    "\n",
    "import pandas as pd\n",
    "import matplotlib.pyplot as plt\n",
    "import seaborn as sns\n",
    "import plotly.express as px\n",
    "\n",
    "path_gold = '/Users/lucaslumertz/Documents/1Programacao/challanges/PLACE v2/data/gold/regioes_promissoras_gold.csv'\n",
    "df_gold = pd.read_csv(path_gold, sep=';')\n",
    "df_gold.head()"
   ]
  },
  {
   "cell_type": "markdown",
   "id": "0a898131",
   "metadata": {},
   "source": [
    "#### Distribuição das Categorias de Score:"
   ]
  },
  {
   "cell_type": "code",
   "execution_count": 2,
   "id": "7dee10b0",
   "metadata": {},
   "outputs": [
    {
     "data": {
      "image/png": "[encoded data removed]",
      "text/plain": [
       "<Figure size 800x500 with 1 Axes>"
      ]
     },
     "metadata": {},
     "output_type": "display_data"
    }
   ],
   "source": [
    "plt.figure(figsize=(8, 5))\n",
    "\n",
    "sns.countplot(\n",
    "    data=df_gold,\n",
    "    x='categoria_score',\n",
    "    hue='categoria_score',\n",
    "    palette='Set2',\n",
    "    order=df_gold['categoria_score'].value_counts().index,\n",
    "    legend=False\n",
    ")\n",
    "\n",
    "plt.title('Distribuição de Categorias de Potencial dos Bairros')\n",
    "plt.xlabel('Categoria do Score')\n",
    "plt.ylabel('Número de Bairros')\n",
    "plt.xticks(rotation=45)\n",
    "plt.tight_layout()\n",
    "plt.show()"
   ]
  },
  {
   "cell_type": "markdown",
   "id": "ff947d79",
   "metadata": {},
   "source": [
    "#### Top 10 Bairros Mais Promissores de Acordo com o Score:"
   ]
  },
  {
   "cell_type": "code",
   "execution_count": 3,
   "id": "95b184a8",
   "metadata": {},
   "outputs": [
    {
     "data": {
      "image/png": "[encoded data removed]",
      "text/plain": [
       "<Figure size 1000x600 with 1 Axes>"
      ]
     },
     "metadata": {},
     "output_type": "display_data"
    }
   ],
   "source": [
    "top_n = 10\n",
    "top_bairros = df_gold.sort_values(by='potencial_score', ascending=False).head(top_n)\n",
    "\n",
    "plt.figure(figsize=(10, 6))\n",
    "\n",
    "sns.barplot(\n",
    "    data=top_bairros,\n",
    "    x='potencial_score',\n",
    "    y='nome_do_bairro',\n",
    "    hue='nome_do_bairro',\n",
    "    palette='viridis',\n",
    "    legend=False\n",
    ")\n",
    "\n",
    "plt.title(f'Top {top_n} Bairros Mais Promissores (Potencial Score)')\n",
    "plt.xlabel('Score de Potencial')\n",
    "plt.ylabel('Bairro')\n",
    "plt.tight_layout()\n",
    "plt.show()"
   ]
  },
  {
   "cell_type": "markdown",
   "id": "474376a6",
   "metadata": {},
   "source": [
    "#### Mapa Simplificado dos Bairros Promissores:"
   ]
  },
  {
   "cell_type": "code",
   "execution_count": 4,
   "id": "20b1bbea",
   "metadata": {},
   "outputs": [
    {
     "data": {
      "application/vnd.plotly.v1+json": {
       "config": {
        "plotlyServerURL": "https://plot.ly"
       },
       "data": [
        {
         "customdata": {
          "bdata": "AAAAAAAAJEAAAAAAAAAAAAAAAAAAye1ApLCWv7r7M8CdGAGv0QBGwD0K16NwPSFAnXPOOWe6A0Hfe++99+6mQBFioghL7zPAYLqO4G0ARsBmZmZmZmYZQAAAAAAAAAAAAAAAAMDr4kCbeNeQleszwHtu+K9O/0XApHA9CtejFkAAAAAAAAAAAMdxHMdx3+BAOhwVKTn7M8CmVb+UzQBGwOF6FK5H4RRAAAAAAICO9ECrqqqqqk63QCbV6bdz/DPAt9JyVKYERsBmZmZmZmYKQAAAAAAAAAAATm9605uo00DLmbzdReszwPshGVdr9EXASOF6FK5HA0AAAAAAAAAAAKOLLrrorMxAGCLlYAfoM8DiNRpHbvtFwClcj8L1KAJA8jzP8/zB5EC2bdu2bauJQEp0PwxV0jPAVUWFVTP7RcAAAAAAAAACQAAAAAAAAAAAjC666KLPykA2al6hd/szwAxTjPIRAEbAH4XrUbgeAUAAAAAAAAAAANzTCMs9dclAS4mFbgvhM8AwjvuYTvdFwOF6FK5H4QBAJ3ZiJ3Zw1UCxEzuxE+u3QJQK9AJE5jPA3af7IoX5RcA=",
          "dtype": "f8",
          "shape": "11, 5"
         },
         "hovertemplate": "<b>%{hovertext}</b><br><br>categoria_score=Ótimo<br>potencial_score=%{customdata[0]}<br>empresas_por_km2=%{customdata[1]}<br>pontos_onibus_por_km2=%{customdata[2]}<extra></extra>",
         "hovertext": [
          "CRISTO REDENTOR",
          "OURO PRETO",
          "PUC",
          "COPASA",
          "TIROL",
          "CÔNEGO PINHEIRO",
          "SANTA ANA",
          "SAO JOAO BATISTA",
          "NOVA DOS MILIONÁRIOS",
          "MAURA",
          "PALMARES"
         ],
         "lat": {
          "bdata": "pLCWv7r7M8ARYqIIS+8zwJt415CV6zPAOhwVKTn7M8Am1em3c/wzwMuZvN1F6zPAGCLlYAfoM8BKdD8MVdIzwDZqXqF3+zPAS4mFbgvhM8CUCvQCROYzwA==",
          "dtype": "f8"
         },
         "legendgroup": "Ótimo",
         "lon": {
          "bdata": "nRgBr9EARsBguo7gbQBGwHtu+K9O/0XAplW/lM0ARsC30nJUpgRGwPshGVdr9EXA4jUaR277RcBVRYVVM/tFwAxTjPIRAEbAMI77mE73RcDdp/sihflFwA==",
          "dtype": "f8"
         },
         "marker": {
          "color": "green",
          "size": 10
         },
         "mode": "markers",
         "name": "Ótimo",
         "showlegend": true,
         "subplot": "map",
         "type": "scattermap"
        },
        {
         "customdata": {
          "bdata": "FK5H4XoU/j8AAAAAAAAAAE1LS0tLZ8ZAnDs55J3mM8AA7gfPW/dFwAAAAAAAAPw/AAAAAAAAAABVVVVVVdXEQBHY4Uzj1jPA4y055r/5RcBcj8L1KFz3P/uCvqAvfNRAiTvijrgTo0CzNGeYtu8zwA9GxrthAEbAKVyPwvUo9D8AAAAAAAAAAMVO7MRODL5AVaywk7/aM8DAx6tvkPVFwFyPwvUoXPM/czVXczW30kDhEA7hEC6XQAFQoM+S7jPAeA8xLmb1RcBmZmZmZmbyPwAAAAAAAAAAyWfdYIqAu0CfHJ99Re4zwMbr7XzT/EXAcT0K16Nw8T8AAAAAACrSQMhxHMdx3I1AVZ77/uHYM8BR2l6GX/lFwEjhehSuR/E/AAAAAAAAAACvobyG8rK5QHXwa5a78TPAwO8Y3A39RcAfhetRuB7xPwAAAAAAAAAAymsor6GYuUCPsFscO+YzwHWrSKMW+UXA",
          "dtype": "f8",
          "shape": "9, 5"
         },
         "hovertemplate": "<b>%{hovertext}</b><br><br>categoria_score=Bom<br>potencial_score=%{customdata[0]}<br>empresas_por_km2=%{customdata[1]}<br>pontos_onibus_por_km2=%{customdata[2]}<extra></extra>",
         "hovertext": [
          "DA GRAÇA",
          "SANTO INÁCIO",
          "OESTE",
          "SÃO GABRIEL",
          "APARECIDA",
          "ADELINA",
          "AEROPORTO",
          "BOM PASTOR",
          "JOÃO PESSOA"
         ],
         "lat": {
          "bdata": "nDs55J3mM8AR2OFM49YzwLM0Z5i27zPAVaywk7/aM8ABUKDPku4zwJ8cn31F7jPAVZ77/uHYM8B18GuWu/EzwI+wWxw75jPA",
          "dtype": "f8"
         },
         "legendgroup": "Bom",
         "lon": {
          "bdata": "AO4Hz1v3RcDjLTnmv/lFwA9GxrthAEbAwMerb5D1RcB4DzEuZvVFwMbr7XzT/EXAUdpehl/5RcDA7xjcDf1FwHWrSKMW+UXA",
          "dtype": "f8"
         },
         "marker": {
          "color": "blue",
          "size": 10
         },
         "mode": "markers",
         "name": "Bom",
         "showlegend": true,
         "subplot": "map",
         "type": "scattermap"
        },
        {
         "customdata": {
          "bdata": "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",
          "dtype": "f8",
          "shape": "302, 5"
         },
         "hovertemplate": "<b>%{hovertext}</b><br><br>categoria_score=Potencial<br>potencial_score=%{customdata[0]}<br>empresas_por_km2=%{customdata[1]}<br>pontos_onibus_por_km2=%{customdata[2]}<extra></extra>",
         "hovertext": [
          "CAVALIERI",
          "VILA RICA",
          "SÃO PAULO",
          "TABELIÃO FERRAZ",
          "DO BARREIRO",
          "ANTENA",
          "IPÊ",
          "LÍDER",
          "PRIMEIRO DE MAIO",
          "ESTRELA",
          "AUSTIN",
          "TRINTA E UM DE MARÇO",
          "SANTA TEREZINHA",
          "TIRADENTES-CONCÓRDIA",
          "SUMARÉ",
          "VARGEM DE TIJUCO",
          "PROGRESSO",
          "MINASCAIXA",
          "BATISTA",
          "SEGUNDA",
          "BOM SUCESSO",
          "ADÉLIA",
          "MONTE CASTELO",
          "TERCEIRA",
          "SÃO JORGE, PRIMEIRA SEÇÃO",
          "PARQUE AVIAÇÃO",
          "ANGÉLICA",
          "AZUL",
          "NOSSA SENHORA APARECIDA",
          "NOVO HORIZONTE",
          "LÍDIA",
          "SANTOS DUMONT",
          "MINAS BRASIL",
          "SANTA LUZIA",
          "LEONINA",
          "CIDADE JARDIM",
          "JARDIM PAMPULHA",
          "SANTA SOFIA",
          "SANTANA DO CAFEZAL",
          "SANTA RITA",
          "FAZENDINHA",
          "SANTA RITA DE CÁSSIA",
          "ALVINA",
          "NOVO SÃO LUCAS",
          "SENHOR DOS PASSOS I",
          "SANTA MARIA",
          "PRIMEIRO DE MAIO",
          "SÃO LEOPOLDO",
          "NOVA GRANADA",
          "PRADO LOPES",
          "SÃO JORGE, SEGUNDA SEÇÃO",
          "CIDADE NOVA",
          "MARIA",
          "ÁTILA DE PAIVA",
          "NOVA PAMPULHA",
          "NOVA FLORESTA",
          "GRAJAÚ",
          "SÃO DOMINGOS",
          "HELENA ANTIPOFF",
          "ITACOLOMI",
          "GETÚLIO VARGAS",
          "CANADÁ",
          "NONA",
          "QUARTA",
          "SALGADO FILHO",
          "IPIRANGA",
          "DÉCIMA TERCEIRA",
          "JONAS VEIGA",
          "DÉCIMA QUARTA",
          "NOVA SUÍÇA",
          "MARILENE",
          "SÃO RAFAEL",
          "DÉCIMA PRIMEIRA",
          "MARIA APARECIDA",
          "ATLÂNTIDA",
          "SÃO JOSÉ",
          "ERMELINDA",
          "SION",
          "OITAVA",
          "SÃO FRANCISCO, PRIMEIRA SEÇÃO",
          "SÃO FRANCISCO, SEGUNDA SEÇÃO",
          "FUTURO",
          "VISTA ALEGRE",
          "CIDADE JARDIM",
          "CONFISCO",
          "SANTA ROSA",
          "CAMPO ALEGRE",
          "SANTA LÚCIA",
          "MANGUEIRAS",
          "COPACABANA",
          "SÃO FRANCISCO, TERCEIRA SEÇÃO",
          "SOLAR DO BARREIRO",
          "ADEMAR MALDONADO",
          "GUARANI",
          "SÃO JORGE, TERCEIRA SEÇÃO",
          "SILVEIRA",
          "ALPES",
          "SANTA CRUZ",
          "DÉCIMA",
          "PIRATININGA",
          "SÃO PAULO",
          "CALAFATE",
          "MONTE CARMELO",
          "SANTA MARIA",
          "AMBROSINA",
          "SÃO VICENTE",
          "SANTA BRANCA",
          "JARDIM FELICIDADE",
          "PINDORAMA",
          "SÃO PEDRO",
          "JARDIM GUANABARA",
          "CRUZEIRO DO SUL",
          "RENASCENÇA",
          "MARINHOS",
          "MIRAMAR",
          "NOSSA SENHORA DA CONCEIÇÃO",
          "SEXTA",
          "OURO PRETO",
          "SÃO FRANCISCO, SÉTIMA SEÇÃO",
          "EUROPA",
          "QUINTA",
          "RIACHUELO",
          "ESTORIL",
          "ESPLANADA",
          "BETÂNIA",
          "DOM CABRAL",
          "SERRANO",
          "PALMITAL",
          "VISTA DO SOL",
          "DAS LARANJEIRAS",
          "DA LAGOA",
          "DOM BOSCO",
          "BIAS FORTES",
          "CORAÇÃO EUCARÍSTICO DE JESUS",
          "PRIMEIRA",
          "SÉTIMA",
          "CAMARGOS",
          "PLANALTO",
          "PARIS",
          "PRESIDENTE JUSCELINO",
          "SÃO FRANCISCO, SEXTA SEÇÃO",
          "DÉCIMA SEGUNDA",
          "FLORAMAR",
          "SÃO FRANCISCO, OITAVA SEÇÃO",
          "BELMONT",
          "PROVIDÊNCIA",
          "BOA VISTA",
          "JARAGUÁ",
          "ANTÔNIO TORRES",
          "CACHOEIRINHA",
          "MADRE GERTRUDES",
          "SATÉLITE",
          "INDUSTRIAL MELO VIANA",
          "CAPARAÓ",
          "ESTRELA DO ORIENTE",
          "SÃO FRANCISCO, QUARTA SEÇÃO",
          "PALMEIRAS",
          "DONA CLARA",
          "LIBERDADE",
          "MARÇOLA",
          "BRASIL INDUSTRIAL",
          "CALIFÓRNIA",
          "JARDIM LEBLON",
          "BELVEDERE",
          "SÃO JOÃO",
          "ARAGUAIA",
          "CELESTE IMPÉRIO",
          "INDAIÁ",
          "CARLOS PRATES",
          "DE VENDA NOVA",
          "SENHOR BOM JESUS",
          "IPÊ",
          "JAQUELINE",
          "DIAMANTE",
          "MANTIQUEIRA",
          "AARÃO REIS",
          "SÃO JOSÉ",
          "SÃO LUCAS",
          "CELSO MACHADO",
          "MAUÁ",
          "SÃO TOMAZ",
          "SEGUNDA",
          "TIRADENTES",
          "UNIVERSITÁRIO",
          "PRIMEIRO DE NOVEMBRO",
          "SINIMBU",
          "CLÓRIS",
          "CENÁCULO",
          "MINAS GERAIS",
          "ESPLENDOR",
          "ITAIPU",
          "SÃO GONÇALO",
          "EDGARD WERNECK",
          "VISTA ALEGRE",
          "PIRINEUS",
          "PIRAJÁ",
          "VALE DO JATOBÁ",
          "CEMIG",
          "DAS OLIVEIRAS",
          "COMITECO",
          "NOSSA SENHORA DO ROSÁRIO",
          "CANDELÁRIA",
          "AMÉRICO WERNECK",
          "PRIMEIRA",
          "ADALBERTO FERRAZ",
          "NAZARÉ",
          "MINASLÂNDIA",
          "TÚNEL DE IBIRITÉ",
          "PARAÍSO",
          "CABANA DO PAI TOMÁS",
          "ADELAIDE",
          "SÃO FRANCISCO, QUINTA SEÇÃO",
          "SÃO PEDRO",
          "NOVO AARÃO REIS",
          "JARDINÓPOLIS",
          "DOM SILVÉRIO",
          "DO BARREIRO",
          "HELIÓPOLIS",
          "JARDIM AMÉRICA",
          "LETÍCIA",
          "DOS MILIONÁRIOS",
          "PARAÚNA",
          "CINQÜENTENÁRIO",
          "BELMONTE",
          "RESPLENDOR",
          "SEXTA",
          "ITATIAIA",
          "HAVAÍ",
          "VERA CRUZ",
          "SÃO BERNARDO",
          "SERRA VERDE",
          "GOIÂNIA",
          "VISCONDE DO RIO BRANCO",
          "SÃO BENTO",
          "DOS PALMARES",
          "ATLÂNTICO",
          "PATROCÍNIO",
          "DAS CASTANHEIRAS",
          "DA GLÓRIA",
          "ENGENHO NOGUEIRA",
          "INCONFIDÊNCIA",
          "JULIANA",
          "NOSSA SENHORA DE FÁTIMA",
          "MARIANO DE ABREU",
          "SANTO ANDRÉ",
          "AFONSO PENA",
          "LEBLON",
          "SÃO MARCOS",
          "SÉTIMA",
          "ALÍPIO DE MELO",
          "PADRE EUSTÁQUIO",
          "OITAVA",
          "DOS BURITIS",
          "TERCEIRA",
          "INDEPENDÊNCIA",
          "SÃO GABRIEL",
          "SANTA INÊS",
          "FLÁVIO MARQUES LISBOA",
          "DO CASTELO",
          "SANTA AMÉLIA",
          "DAS GARÇAS",
          "URUCUIA",
          "ITAPOÃ",
          "XANGRI-LÁ",
          "SANTA LÚCIA",
          "DO TIROL",
          "SAGRADA FAMÍLIA",
          "DOS COQUEIROS",
          "UNIÃO",
          "SÃO JOÃO BATISTA",
          "DA LAGOA",
          "BONSUCESSO",
          "PAQUETÁ",
          "DOS MANACÁS",
          "SANTA MÔNICA",
          "CÉU AZUL",
          "NOVA YORK",
          "DA GAMELEIRA",
          "JOÃO PINHEIRO",
          "CAIÇARAS",
          "DAS MANGABEIRAS",
          "VITÓRIA",
          "DAS INDÚSTRIAS",
          "OLHOS D´ÁGUA",
          "JATOBÁ",
          "MONTE AZUL",
          "DO PILAR",
          "CALIFÓRNIA",
          "CIDADE JARDIM TAQUARIL",
          "LINDÉIA",
          "TUPI",
          "DA BALEIA",
          "DOS BANDEIRANTES",
          "SOLIMÕES",
          "DO TREVO",
          "CANAÃ",
          "SÃO LUÍZ",
          "SÃO DAMIÃO",
          "ANTÔNIO RIBEIRO DE ABREU",
          "FERNÃO DIAS",
          "CAPITÃO EDUARDO",
          "BRAÚNAS"
         ],
         "lat": {
          "bdata": "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",
          "dtype": "f8"
         },
         "legendgroup": "Potencial",
         "lon": {
          "bdata": "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",
          "dtype": "f8"
         },
         "marker": {
          "color": "gold",
          "size": 10
         },
         "mode": "markers",
         "name": "Potencial",
         "showlegend": true,
         "subplot": "map",
         "type": "scattermap"
        }
       ],
       "layout": {
        "height": 600,
        "legend": {
         "title": {
          "text": "categoria_score"
         },
         "tracegroupgap": 0
        },
        "map": {
         "center": {
          "lat": -19.899749576676545,
          "lon": -43.959750838850496
         },
         "domain": {
          "x": [
           0,
           1
          ],
          "y": [
           0,
           1
          ]
         },
         "zoom": 11
        },
        "mapbox": {
         "center": {
          "lat": -19.899749576676545,
          "lon": -43.959750838850496
         },
         "zoom": 11
        },
        "margin": {
         "t": 60
        },
        "template": {
         "data": {
          "bar": [
           {
            "error_x": {
             "color": "#2a3f5f"
            },
            "error_y": {
             "color": "#2a3f5f"
            },
            "marker": {
             "line": {
              "color": "#E5ECF6",
              "width": 0.5
             },
             "pattern": {
              "fillmode": "overlay",
              "size": 10,
              "solidity": 0.2
             }
            },
            "type": "bar"
           }
          ],
          "barpolar": [
           {
            "marker": {
             "line": {
              "color": "#E5ECF6",
              "width": 0.5
             },
             "pattern": {
              "fillmode": "overlay",
              "size": 10,
              "solidity": 0.2
             }
            },
            "type": "barpolar"
           }
          ],
          "carpet": [
           {
            "aaxis": {
             "endlinecolor": "#2a3f5f",
             "gridcolor": "white",
             "linecolor": "white",
             "minorgridcolor": "white",
             "startlinecolor": "#2a3f5f"
            },
            "baxis": {
             "endlinecolor": "#2a3f5f",
             "gridcolor": "white",
             "linecolor": "white",
             "minorgridcolor": "white",
             "startlinecolor": "#2a3f5f"
            },
            "type": "carpet"
           }
          ],
          "choropleth": [
           {
            "colorbar": {
             "outlinewidth": 0,
             "ticks": ""
            },
            "type": "choropleth"
           }
          ],
          "contour": [
           {
            "colorbar": {
             "outlinewidth": 0,
             "ticks": ""
            },
            "colorscale": [
             [
              0,
              "#0d0887"
             ],
             [
              0.1111111111111111,
              "#46039f"
             ],
             [
              0.2222222222222222,
              "#7201a8"
             ],
             [
              0.3333333333333333,
              "#9c179e"
             ],
             [
              0.4444444444444444,
              "#bd3786"
             ],
             [
              0.5555555555555556,
              "#d8576b"
             ],
             [
              0.6666666666666666,
              "#ed7953"
             ],
             [
              0.7777777777777778,
              "#fb9f3a"
             ],
             [
              0.8888888888888888,
              "#fdca26"
             ],
             [
              1,
              "#f0f921"
             ]
            ],
            "type": "contour"
           }
          ],
          "contourcarpet": [
           {
            "colorbar": {
             "outlinewidth": 0,
             "ticks": ""
            },
            "type": "contourcarpet"
           }
          ],
          "heatmap": [
           {
            "colorbar": {
             "outlinewidth": 0,
             "ticks": ""
            },
            "colorscale": [
             [
              0,
              "#0d0887"
             ],
             [
              0.1111111111111111,
              "#46039f"
             ],
             [
              0.2222222222222222,
              "#7201a8"
             ],
             [
              0.3333333333333333,
              "#9c179e"
             ],
             [
              0.4444444444444444,
              "#bd3786"
             ],
             [
              0.5555555555555556,
              "#d8576b"
             ],
             [
              0.6666666666666666,
              "#ed7953"
             ],
             [
              0.7777777777777778,
              "#fb9f3a"
             ],
             [
              0.8888888888888888,
              "#fdca26"
             ],
             [
              1,
              "#f0f921"
             ]
            ],
            "type": "heatmap"
           }
          ],
          "histogram": [
           {
            "marker": {
             "pattern": {
              "fillmode": "overlay",
              "size": 10,
              "solidity": 0.2
             }
            },
            "type": "histogram"
           }
          ],
          "histogram2d": [
           {
            "colorbar": {
             "outlinewidth": 0,
             "ticks": ""
            },
            "colorscale": [
             [
              0,
              "#0d0887"
             ],
             [
              0.1111111111111111,
              "#46039f"
             ],
             [
              0.2222222222222222,
              "#7201a8"
             ],
             [
              0.3333333333333333,
              "#9c179e"
             ],
             [
              0.4444444444444444,
              "#bd3786"
             ],
             [
              0.5555555555555556,
              "#d8576b"
             ],
             [
              0.6666666666666666,
              "#ed7953"
             ],
             [
              0.7777777777777778,
              "#fb9f3a"
             ],
             [
              0.8888888888888888,
              "#fdca26"
             ],
             [
              1,
              "#f0f921"
             ]
            ],
            "type": "histogram2d"
           }
          ],
          "histogram2dcontour": [
           {
            "colorbar": {
             "outlinewidth": 0,
             "ticks": ""
            },
            "colorscale": [
             [
              0,
              "#0d0887"
             ],
             [
              0.1111111111111111,
              "#46039f"
             ],
             [
              0.2222222222222222,
              "#7201a8"
             ],
             [
              0.3333333333333333,
              "#9c179e"
             ],
             [
              0.4444444444444444,
              "#bd3786"
             ],
             [
              0.5555555555555556,
              "#d8576b"
             ],
             [
              0.6666666666666666,
              "#ed7953"
             ],
             [
              0.7777777777777778,
              "#fb9f3a"
             ],
             [
              0.8888888888888888,
              "#fdca26"
             ],
             [
              1,
              "#f0f921"
             ]
            ],
            "type": "histogram2dcontour"
           }
          ],
          "mesh3d": [
           {
            "colorbar": {
             "outlinewidth": 0,
             "ticks": ""
            },
            "type": "mesh3d"
           }
          ],
          "parcoords": [
           {
            "line": {
             "colorbar": {
              "outlinewidth": 0,
              "ticks": ""
             }
            },
            "type": "parcoords"
           }
          ],
          "pie": [
           {
            "automargin": true,
            "type": "pie"
           }
          ],
          "scatter": [
           {
            "fillpattern": {
             "fillmode": "overlay",
             "size": 10,
             "solidity": 0.2
            },
            "type": "scatter"
           }
          ],
          "scatter3d": [
           {
            "line": {
             "colorbar": {
              "outlinewidth": 0,
              "ticks": ""
             }
            },
            "marker": {
             "colorbar": {
              "outlinewidth": 0,
              "ticks": ""
             }
            },
            "type": "scatter3d"
           }
          ],
          "scattercarpet": [
           {
            "marker": {
             "colorbar": {
              "outlinewidth": 0,
              "ticks": ""
             }
            },
            "type": "scattercarpet"
           }
          ],
          "scattergeo": [
           {
            "marker": {
             "colorbar": {
              "outlinewidth": 0,
              "ticks": ""
             }
            },
            "type": "scattergeo"
           }
          ],
          "scattergl": [
           {
            "marker": {
             "colorbar": {
              "outlinewidth": 0,
              "ticks": ""
             }
            },
            "type": "scattergl"
           }
          ],
          "scattermap": [
           {
            "marker": {
             "colorbar": {
              "outlinewidth": 0,
              "ticks": ""
             }
            },
            "type": "scattermap"
           }
          ],
          "scattermapbox": [
           {
            "marker": {
             "colorbar": {
              "outlinewidth": 0,
              "ticks": ""
             }
            },
            "type": "scattermapbox"
           }
          ],
          "scatterpolar": [
           {
            "marker": {
             "colorbar": {
              "outlinewidth": 0,
              "ticks": ""
             }
            },
            "type": "scatterpolar"
           }
          ],
          "scatterpolargl": [
           {
            "marker": {
             "colorbar": {
              "outlinewidth": 0,
              "ticks": ""
             }
            },
            "type": "scatterpolargl"
           }
          ],
          "scatterternary": [
           {
            "marker": {
             "colorbar": {
              "outlinewidth": 0,
              "ticks": ""
             }
            },
            "type": "scatterternary"
           }
          ],
          "surface": [
           {
            "colorbar": {
             "outlinewidth": 0,
             "ticks": ""
            },
            "colorscale": [
             [
              0,
              "#0d0887"
             ],
             [
              0.1111111111111111,
              "#46039f"
             ],
             [
              0.2222222222222222,
              "#7201a8"
             ],
             [
              0.3333333333333333,
              "#9c179e"
             ],
             [
              0.4444444444444444,
              "#bd3786"
             ],
             [
              0.5555555555555556,
              "#d8576b"
             ],
             [
              0.6666666666666666,
              "#ed7953"
             ],
             [
              0.7777777777777778,
              "#fb9f3a"
             ],
             [
              0.8888888888888888,
              "#fdca26"
             ],
             [
              1,
              "#f0f921"
             ]
            ],
            "type": "surface"
           }
          ],
          "table": [
           {
            "cells": {
             "fill": {
              "color": "#EBF0F8"
             },
             "line": {
              "color": "white"
             }
            },
            "header": {
             "fill": {
              "color": "#C8D4E3"
             },
             "line": {
              "color": "white"
             }
            },
            "type": "table"
           }
          ]
         },
         "layout": {
          "annotationdefaults": {
           "arrowcolor": "#2a3f5f",
           "arrowhead": 0,
           "arrowwidth": 1
          },
          "autotypenumbers": "strict",
          "coloraxis": {
           "colorbar": {
            "outlinewidth": 0,
            "ticks": ""
           }
          },
          "colorscale": {
           "diverging": [
            [
             0,
             "#8e0152"
            ],
            [
             0.1,
             "#c51b7d"
            ],
            [
             0.2,
             "#de77ae"
            ],
            [
             0.3,
             "#f1b6da"
            ],
            [
             0.4,
             "#fde0ef"
            ],
            [
             0.5,
             "#f7f7f7"
            ],
            [
             0.6,
             "#e6f5d0"
            ],
            [
             0.7,
             "#b8e186"
            ],
            [
             0.8,
             "#7fbc41"
            ],
            [
             0.9,
             "#4d9221"
            ],
            [
             1,
             "#276419"
            ]
           ],
           "sequential": [
            [
             0,
             "#0d0887"
            ],
            [
             0.1111111111111111,
             "#46039f"
            ],
            [
             0.2222222222222222,
             "#7201a8"
            ],
            [
             0.3333333333333333,
             "#9c179e"
            ],
            [
             0.4444444444444444,
             "#bd3786"
            ],
            [
             0.5555555555555556,
             "#d8576b"
            ],
            [
             0.6666666666666666,
             "#ed7953"
            ],
            [
             0.7777777777777778,
             "#fb9f3a"
            ],
            [
             0.8888888888888888,
             "#fdca26"
            ],
            [
             1,
             "#f0f921"
            ]
           ],
           "sequentialminus": [
            [
             0,
             "#0d0887"
            ],
            [
             0.1111111111111111,
             "#46039f"
            ],
            [
             0.2222222222222222,
             "#7201a8"
            ],
            [
             0.3333333333333333,
             "#9c179e"
            ],
            [
             0.4444444444444444,
             "#bd3786"
            ],
            [
             0.5555555555555556,
             "#d8576b"
            ],
            [
             0.6666666666666666,
             "#ed7953"
            ],
            [
             0.7777777777777778,
             "#fb9f3a"
            ],
            [
             0.8888888888888888,
             "#fdca26"
            ],
            [
             1,
             "#f0f921"
            ]
           ]
          },
          "colorway": [
           "#636efa",
           "#EF553B",
           "#00cc96",
           "#ab63fa",
           "#FFA15A",
           "#19d3f3",
           "#FF6692",
           "#B6E880",
           "#FF97FF",
           "#FECB52"
          ],
          "font": {
           "color": "#2a3f5f"
          },
          "geo": {
           "bgcolor": "white",
           "lakecolor": "white",
           "landcolor": "#E5ECF6",
           "showlakes": true,
           "showland": true,
           "subunitcolor": "white"
          },
          "hoverlabel": {
           "align": "left"
          },
          "hovermode": "closest",
          "mapbox": {
           "style": "light"
          },
          "paper_bgcolor": "white",
          "plot_bgcolor": "#E5ECF6",
          "polar": {
           "angularaxis": {
            "gridcolor": "white",
            "linecolor": "white",
            "ticks": ""
           },
           "bgcolor": "#E5ECF6",
           "radialaxis": {
            "gridcolor": "white",
            "linecolor": "white",
            "ticks": ""
           }
          },
          "scene": {
           "xaxis": {
            "backgroundcolor": "#E5ECF6",
            "gridcolor": "white",
            "gridwidth": 2,
            "linecolor": "white",
            "showbackground": true,
            "ticks": "",
            "zerolinecolor": "white"
           },
           "yaxis": {
            "backgroundcolor": "#E5ECF6",
            "gridcolor": "white",
            "gridwidth": 2,
            "linecolor": "white",
            "showbackground": true,
            "ticks": "",
            "zerolinecolor": "white"
           },
           "zaxis": {
            "backgroundcolor": "#E5ECF6",
            "gridcolor": "white",
            "gridwidth": 2,
            "linecolor": "white",
            "showbackground": true,
            "ticks": "",
            "zerolinecolor": "white"
           }
          },
          "shapedefaults": {
           "line": {
            "color": "#2a3f5f"
           }
          },
          "ternary": {
           "aaxis": {
            "gridcolor": "white",
            "linecolor": "white",
            "ticks": ""
           },
           "baxis": {
            "gridcolor": "white",
            "linecolor": "white",
            "ticks": ""
           },
           "bgcolor": "#E5ECF6",
           "caxis": {
            "gridcolor": "white",
            "linecolor": "white",
            "ticks": ""
           }
          },
          "title": {
           "x": 0.05
          },
          "xaxis": {
           "automargin": true,
           "gridcolor": "white",
           "linecolor": "white",
           "ticks": "",
           "title": {
            "standoff": 15
           },
           "zerolinecolor": "white",
           "zerolinewidth": 2
          },
          "yaxis": {
           "automargin": true,
           "gridcolor": "white",
           "linecolor": "white",
           "ticks": "",
           "title": {
            "standoff": 15
           },
           "zerolinecolor": "white",
           "zerolinewidth": 2
          }
         }
        }
       }
      }
     },
     "metadata": {},
     "output_type": "display_data"
    }
   ],
   "source": [
    "df_map = df_gold[df_gold['categoria_score'].isin(['Ótimo', 'Bom', 'Potencial', 'Arriscado'])]\n",
    "\n",
    "cores_personalizadas = {\n",
    "    \"Ótimo\": \"green\",\n",
    "    \"Bom\": \"blue\",\n",
    "    \"Potencial\": \"gold\",\n",
    "    \"Arriscado\": \"red\"\n",
    "}\n",
    "\n",
    "fig = px.scatter_map(\n",
    "    df_map,\n",
    "    lat=\"latitude\",\n",
    "    lon=\"longitude\",\n",
    "    color=\"categoria_score\",\n",
    "    color_discrete_map=cores_personalizadas,\n",
    "    hover_name=\"nome_do_bairro\",\n",
    "    hover_data={\n",
    "        \"potencial_score\": True,\n",
    "        \"empresas_por_km2\": True,\n",
    "        \"pontos_onibus_por_km2\": True,\n",
    "        \"latitude\": False,\n",
    "        \"longitude\": False\n",
    "    },\n",
    "    zoom=11,\n",
    "    height=600\n",
    ")\n",
    "\n",
    "fig.update_traces(marker=dict(size=10))\n",
    "\n",
    "fig.show()"
   ]
  },
  {
   "cell_type": "markdown",
   "id": "e40c33db",
   "metadata": {},
   "source": [
    "#### Melhores Bairros com Alta Disponibilidade de Transporte e no máximo 100 Empresas:"
   ]
  },
  {
   "cell_type": "code",
   "execution_count": 5,
   "id": "490bc4d5",
   "metadata": {},
   "outputs": [
    {
     "data": {
      "image/png": "[encoded data removed]",
      "text/plain": [
       "<Figure size 1200x600 with 1 Axes>"
      ]
     },
     "metadata": {},
     "output_type": "display_data"
    }
   ],
   "source": [
    "df_filtrado_limite = df_gold[\n",
    "    (df_gold['qtd_empresas'] >= 10) & (df_gold['qtd_empresas'] <= 100)\n",
    "]\n",
    "\n",
    "top_bairros_custom = df_filtrado_limite.sort_values(\n",
    "    by='qtd_pontos_onibus', ascending=False\n",
    ").head(10)\n",
    "\n",
    "plt.figure(figsize=(12, 6))\n",
    "\n",
    "sns.barplot(\n",
    "    data=top_bairros_custom,\n",
    "    y='qtd_pontos_onibus',\n",
    "    x='nome_do_bairro',\n",
    "    hue='qtd_empresas',\n",
    "    palette='viridis'\n",
    ")\n",
    "\n",
    "plt.title(\"Top Bairros com Alta Disponibilidade de Transporte e até 100 Empresas\")\n",
    "plt.xlabel(\"Quantidade de Pontos de Ônibus\")\n",
    "plt.ylabel(\"Bairros\")\n",
    "plt.legend(title=\"Quantidade de Empresas\")\n",
    "plt.tight_layout()\n",
    "plt.grid(axis='x', linestyle='--', alpha=0.5)\n",
    "plt.show()"
   ]
  },
  {
   "cell_type": "markdown",
   "id": "295bf6c7",
   "metadata": {},
   "source": [
    "#### Distribuição de Bairros por Nível de Disponibilidade de Transporte e Ocupação:"
   ]
  },
  {
   "cell_type": "code",
   "execution_count": null,
   "id": "642541dc",
   "metadata": {},
   "outputs": [
    {
     "data": {
      "image/png": "[encoded data removed]",
      "text/plain": [
       "<Figure size 1000x600 with 1 Axes>"
      ]
     },
     "metadata": {},
     "output_type": "display_data"
    }
   ],
   "source": [
    "# === Quartis de referência para empresas e pontos de ônibus por km² ===\n",
    "q_empresas = df_gold['empresas_por_km2'].quantile([0.25, 0.75])\n",
    "q_onibus = df_gold['pontos_onibus_por_km2'].quantile([0.25, 0.75])\n",
    "\n",
    "# === Função para classificar os bairros ===\n",
    "def classificar_quadrante(empresas, onibus):\n",
    "    if onibus >= q_onibus[0.75]:\n",
    "        if empresas >= q_empresas[0.75]:\n",
    "            return 'Alta infraestrutura, alta ocupação'\n",
    "        elif empresas <= q_empresas[0.25]:\n",
    "            return 'Alta infraestrutura, baixa ocupação'\n",
    "    elif onibus <= q_onibus[0.25]:\n",
    "        if empresas >= q_empresas[0.75]:\n",
    "            return 'Baixa infraestrutura, alta ocupação'\n",
    "        elif empresas <= q_empresas[0.25]:\n",
    "            return 'Baixa infraestrutura, baixa ocupação'\n",
    "    return 'Média infraestrutura ou ocupação'\n",
    "\n",
    "# === Aplica a classificação ao DataFrame ===\n",
    "df_gold['quadrante'] = df_gold.apply(\n",
    "    lambda row: classificar_quadrante(row['empresas_por_km2'], row['pontos_onibus_por_km2']),\n",
    "    axis=1\n",
    ")\n",
    "\n",
    "# === Contagem dos bairros por quadrante ===\n",
    "quantidade_por_quadrante = df_gold['quadrante'].value_counts().reset_index()\n",
    "quantidade_por_quadrante.columns = ['Quadrante', 'Quantidade']\n",
    "\n",
    "# === Define a ordem desejada dos quadrantes ===\n",
    "ordem_quadrantes = [\n",
    "    'Alta infraestrutura, baixa ocupação',\n",
    "    'Alta infraestrutura, alta ocupação',\n",
    "    'Baixa infraestrutura, alta ocupação',\n",
    "    'Baixa infraestrutura, baixa ocupação',\n",
    "    'Média infraestrutura ou ocupação'\n",
    "]\n",
    "\n",
    "# Ordena com base nos quadrantes definidos\n",
    "quantidade_por_quadrante['Quadrante'] = pd.Categorical(\n",
    "    quantidade_por_quadrante['Quadrante'],\n",
    "    categories=ordem_quadrantes,\n",
    "    ordered=True\n",
    ")\n",
    "\n",
    "quantidade_por_quadrante = quantidade_por_quadrante.sort_values('Quadrante', ascending=False)\n",
    "\n",
    "plt.figure(figsize=(10, 6))\n",
    "barplot = sns.barplot(\n",
    "    data=quantidade_por_quadrante,\n",
    "    y='Quadrante',\n",
    "    x='Quantidade',\n",
    "    hue='Quadrante',\n",
    "    dodge=False,\n",
    "    palette={\n",
    "        'Alta infraestrutura, alta ocupação': '#0392cf',\n",
    "        'Alta infraestrutura, baixa ocupação': '#7bc043',\n",
    "        'Baixa infraestrutura, alta ocupação': '#ee4035',\n",
    "        'Baixa infraestrutura, baixa ocupação': '#f37736',\n",
    "        'Média infraestrutura ou ocupação': '#cccccc'\n",
    "    }\n",
    ")\n",
    "\n",
    "handles, labels = barplot.get_legend_handles_labels()\n",
    "barplot.legend(handles[:5], ordem_quadrantes)\n",
    "\n",
    "plt.title(\"Distribuição de Bairros por Nível de Transporte e Ocupação (Ajustado por Quartis)\", fontsize=14)\n",
    "plt.xlabel(\"Número de Bairros\")\n",
    "plt.ylabel(\"Classificação de Oportunidade\")\n",
    "plt.grid(axis='x', linestyle='--', alpha=0.4)\n",
    "plt.tight_layout()\n",
    "plt.show()"
   ]
  }
 ],
 "metadata": {
  "kernelspec": {
   "display_name": ".venv",
   "language": "python",
   "name": "python3"
  },
  "language_info": {
   "codemirror_mode": {
    "name": "ipython",
    "version": 3
   },
   "file_extension": ".py",
   "mimetype": "text/x-python",
   "name": "python",
   "nbconvert_exporter": "python",
   "pygments_lexer": "ipython3",
   "version": "3.12.7"
  }
 },
 "nbformat": 4,
 "nbformat_minor": 5
}
